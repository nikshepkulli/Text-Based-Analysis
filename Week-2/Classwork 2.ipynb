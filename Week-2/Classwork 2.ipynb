{
 "cells": [
  {
   "cell_type": "code",
   "execution_count": null,
   "id": "91cdec89",
   "metadata": {},
   "outputs": [],
   "source": [
    "import pandas as pd\n",
    "file = \"G:/My Drive/SHU MS/2nd Sem/TEXT-BASED ANALYSIS CS-651-A/Week 2/un-general-debates-blueprint.csv\"\n",
    "df = pd.read_csv(file)\n",
    "df.head(20)"
   ]
  },
  {
   "cell_type": "code",
   "execution_count": null,
   "id": "d0e828d2",
   "metadata": {},
   "outputs": [],
   "source": [
    "df = df.sample(frac=0.2) # only for large datasets\n",
    "df"
   ]
  },
  {
   "cell_type": "code",
   "execution_count": null,
   "id": "b3d0c25a",
   "metadata": {},
   "outputs": [],
   "source": [
    "df.columns"
   ]
  },
  {
   "cell_type": "code",
   "execution_count": null,
   "id": "c7526914",
   "metadata": {},
   "outputs": [],
   "source": [
    "df.dtypes"
   ]
  },
  {
   "cell_type": "code",
   "execution_count": null,
   "id": "3079787c",
   "metadata": {},
   "outputs": [],
   "source": [
    "df.info()"
   ]
  },
  {
   "cell_type": "code",
   "execution_count": null,
   "id": "fa376955",
   "metadata": {},
   "outputs": [],
   "source": [
    "df.describe()"
   ]
  },
  {
   "cell_type": "code",
   "execution_count": null,
   "id": "d8aa50a8",
   "metadata": {},
   "outputs": [],
   "source": [
    "df['length'] = df['text'].str.len()\n",
    "df.describe()"
   ]
  },
  {
   "cell_type": "code",
   "execution_count": null,
   "id": "5385a870",
   "metadata": {},
   "outputs": [],
   "source": [
    "df.describe(include='O')"
   ]
  },
  {
   "cell_type": "code",
   "execution_count": null,
   "id": "59aa932b",
   "metadata": {},
   "outputs": [],
   "source": [
    "df.isna().sum()"
   ]
  },
  {
   "cell_type": "code",
   "execution_count": null,
   "id": "725cbf12",
   "metadata": {},
   "outputs": [],
   "source": [
    "df['speaker'].fillna('unknown', inplace=True)\n",
    "df['position'].fillna('unknown', inplace=True)\n",
    "df.isna().sum()"
   ]
  },
  {
   "cell_type": "code",
   "execution_count": null,
   "id": "a3395777",
   "metadata": {},
   "outputs": [],
   "source": [
    "df['speaker'] = df['speaker'].str.lower()\n",
    "df['position'] = df['position'].str.lower()\n",
    "df['text'] = df['text'].str.lower()\n",
    "df['country'] = df['country'].str.lower()\n",
    "df['country_name'] = df['country_name'].str.lower()\n",
    "df.head(10)"
   ]
  },
  {
   "cell_type": "code",
   "execution_count": null,
   "id": "589a63a0",
   "metadata": {},
   "outputs": [],
   "source": [
    "df[df['speaker'].str.contains('bush')]"
   ]
  },
  {
   "cell_type": "code",
   "execution_count": null,
   "id": "77348143",
   "metadata": {},
   "outputs": [],
   "source": [
    "df['length'].plot()"
   ]
  },
  {
   "cell_type": "code",
   "execution_count": null,
   "id": "7a9d840b",
   "metadata": {},
   "outputs": [],
   "source": [
    "df['length'].plot(kind='box', vert=False)"
   ]
  },
  {
   "cell_type": "code",
   "execution_count": null,
   "id": "304514e7",
   "metadata": {},
   "outputs": [],
   "source": [
    "df['length'].plot(kind='hist', bins=30)"
   ]
  },
  {
   "cell_type": "code",
   "execution_count": null,
   "id": "9017792d",
   "metadata": {},
   "outputs": [],
   "source": [
    "import seaborn as sns \n",
    "where = df['country'].isin(['usa', 'fra', 'gbr', 'chn', 'rus','ind','egy'])\n",
    "g = sns.catplot(data=df[where], x=\"country\", y=\"length\", kind='box')\n",
    "g.fig.set_size_inches(10, 8) ###"
   ]
  },
  {
   "cell_type": "code",
   "execution_count": null,
   "id": "6816b241",
   "metadata": {},
   "outputs": [],
   "source": [
    "import regex as re\n",
    "\n",
    "def tokenize(text):\n",
    "    return re.findall(r'[\\w-]*[a-z|A-Z][\\w-]*', text)"
   ]
  },
  {
   "cell_type": "code",
   "execution_count": null,
   "id": "a79fef3d",
   "metadata": {},
   "outputs": [],
   "source": [
    "testtext = \"Let's defeat SARS-CoV-2 together in 2020! www.cdc.gov\"\n",
    "testtokens = tokenize(testtext)\n",
    " \n",
    "print(testtokens)"
   ]
  },
  {
   "cell_type": "code",
   "execution_count": null,
   "id": "0c791134",
   "metadata": {},
   "outputs": [],
   "source": [
    "import nltk \n",
    "nltk.download('stopwords')\n",
    "stopwords = set(nltk.corpus.stopwords.words('english'))\n",
    "print(stopwords)"
   ]
  },
  {
   "cell_type": "code",
   "execution_count": null,
   "id": "e5d6ef4a",
   "metadata": {},
   "outputs": [],
   "source": [
    "def remove_stop(tokens):\n",
    "    return [t for t in tokens if t.lower() not in stopwords]\n",
    "#Just testing it\n",
    "cleantokens= remove_stop(testtokens)\n",
    "print(cleantokens)"
   ]
  },
  {
   "cell_type": "code",
   "execution_count": null,
   "id": "6fbfded3",
   "metadata": {},
   "outputs": [],
   "source": [
    "pipeline = [str.lower, tokenize, remove_stop]"
   ]
  },
  {
   "cell_type": "code",
   "execution_count": null,
   "id": "01c97f52",
   "metadata": {},
   "outputs": [],
   "source": [
    "def prepare(text, pipeline):\n",
    "    tokens = text\n",
    "    for fun in pipeline:\n",
    "        tokens = fun(tokens)\n",
    "    return tokens"
   ]
  },
  {
   "cell_type": "code",
   "execution_count": null,
   "id": "50e6fb71",
   "metadata": {},
   "outputs": [],
   "source": [
    "df['tokens'] = df['text'].apply(prepare, pipeline=pipeline)"
   ]
  },
  {
   "cell_type": "code",
   "execution_count": null,
   "id": "55da4361",
   "metadata": {},
   "outputs": [],
   "source": [
    "df.head(1)"
   ]
  },
  {
   "cell_type": "code",
   "execution_count": null,
   "id": "9e83f6eb",
   "metadata": {},
   "outputs": [],
   "source": [
    "df['num_tokens'] = df['tokens'].map(len)\n",
    "df.tail()"
   ]
  },
  {
   "cell_type": "code",
   "execution_count": null,
   "id": "f31dbf81",
   "metadata": {},
   "outputs": [],
   "source": [
    "from collections import Counter\n",
    "\n",
    "tokens = tokenize(\"She likes my cats and my cats like my sofa.\")\n",
    "\n",
    "testcount= Counter(tokens)\n",
    "print(testcount)"
   ]
  },
  {
   "cell_type": "code",
   "execution_count": null,
   "id": "26fd2e9d",
   "metadata": {},
   "outputs": [],
   "source": [
    "more_tokens = tokenize(\"She likes dogs and cats.\")\n",
    "testcount.update(more_tokens)\n",
    "print(testcount)"
   ]
  },
  {
   "cell_type": "code",
   "execution_count": null,
   "id": "3b9428e6",
   "metadata": {},
   "outputs": [],
   "source": [
    "counter = Counter()\n",
    "df['tokens'].map(counter.update)\n",
    "print(counter.most_common(10))\n",
    "print(counter)"
   ]
  },
  {
   "cell_type": "code",
   "execution_count": null,
   "id": "0d3add9b",
   "metadata": {},
   "outputs": [],
   "source": [
    "freq_df = pd.DataFrame.from_dict(counter, orient='index', columns=['freq'])\n",
    "freq_df = freq_df.query('freq >= 1')\n",
    "freq_df.index.name = 'token'"
   ]
  },
  {
   "cell_type": "code",
   "execution_count": null,
   "id": "f7eee678",
   "metadata": {},
   "outputs": [],
   "source": [
    "freq_df.head(5)"
   ]
  },
  {
   "cell_type": "code",
   "execution_count": null,
   "id": "74260fb9",
   "metadata": {},
   "outputs": [],
   "source": [
    "freq_df = freq_df.sort_values('freq', ascending=False)\n",
    "freq_df.head(10)"
   ]
  },
  {
   "cell_type": "code",
   "execution_count": null,
   "id": "5c646743",
   "metadata": {},
   "outputs": [],
   "source": [
    "freq_df.describe()"
   ]
  },
  {
   "cell_type": "code",
   "execution_count": null,
   "id": "0a34fc12",
   "metadata": {},
   "outputs": [],
   "source": [
    "ax = freq_df.head(50).plot(kind='barh', width=0.95, figsize=(12,8))\n",
    "ax.invert_yaxis()\n",
    "ax.set(xlabel='Frequency', ylabel='Token', title='Top Words')"
   ]
  },
  {
   "cell_type": "code",
   "execution_count": null,
   "id": "5945bb37",
   "metadata": {},
   "outputs": [],
   "source": [
    "from wordcloud import WordCloud\n",
    "from matplotlib import pyplot as plt\n",
    "\n",
    "text = df.query(\"year==2015 and country=='ind'\")['text'].values[0]\n",
    "\n",
    "plt.figure(figsize=(14, 7)) ###\n",
    "wc = WordCloud(max_words=100, stopwords=stopwords)\n",
    "wc.generate(text)\n",
    "plt.imshow(wc, interpolation='bilinear')\n",
    "plt.axis(\"off\")"
   ]
  },
  {
   "cell_type": "code",
   "execution_count": null,
   "id": "93dc6ef8",
   "metadata": {},
   "outputs": [],
   "source": [
    "wc = WordCloud(background_color='white', width = 300, height=300, max_words=100, margin=2)\n",
    "wc.fit_words(freq_df['freq'].to_dict() )\n",
    "plt.figure(figsize = (8, 8), facecolor = None)\n",
    "plt.imshow(wc)\n",
    "plt.axis(\"off\")\n",
    "plt.tight_layout(pad = 0)\n",
    "plt.show()"
   ]
  }
 ],
 "metadata": {
  "kernelspec": {
   "display_name": "Python 3 (ipykernel)",
   "language": "python",
   "name": "python3"
  },
  "language_info": {
   "codemirror_mode": {
    "name": "ipython",
    "version": 3
   },
   "file_extension": ".py",
   "mimetype": "text/x-python",
   "name": "python",
   "nbconvert_exporter": "python",
   "pygments_lexer": "ipython3",
   "version": "3.9.13"
  }
 },
 "nbformat": 4,
 "nbformat_minor": 5
}
